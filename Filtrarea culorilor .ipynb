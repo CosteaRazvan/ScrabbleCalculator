{
 "cells": [
  {
   "cell_type": "code",
   "execution_count": 2,
   "id": "3b973af6",
   "metadata": {},
   "outputs": [],
   "source": [
    "import numpy as np\n",
    "import cv2 as cv\n",
    "import os\n",
    "import glob\n",
    "import matplotlib.pyplot as plt\n",
    "from numpy.random import uniform\n",
    "import pdb"
   ]
  },
  {
   "cell_type": "code",
   "execution_count": 3,
   "id": "e2588322",
   "metadata": {},
   "outputs": [],
   "source": [
    "def find_color_values_using_trackbar(frame):\n",
    "\n",
    "    frame_hsv = cv.cvtColor(frame, cv.COLOR_BGR2HSV)\n",
    " \n",
    "    def nothing(x):\n",
    "        pass\n",
    "\n",
    "    cv.namedWindow(\"Trackbar\") \n",
    "    cv.createTrackbar(\"LH\", \"Trackbar\", 0, 255, nothing)\n",
    "    cv.createTrackbar(\"LS\", \"Trackbar\", 0, 255, nothing)\n",
    "    cv.createTrackbar(\"LV\", \"Trackbar\", 0, 255, nothing)\n",
    "    cv.createTrackbar(\"UH\", \"Trackbar\", 255, 255, nothing)\n",
    "    cv.createTrackbar(\"US\", \"Trackbar\", 255, 255, nothing)\n",
    "    cv.createTrackbar(\"UV\", \"Trackbar\", 255, 255, nothing)\n",
    "    \n",
    "    \n",
    "    while True:\n",
    "\n",
    "        l_h = cv.getTrackbarPos(\"LH\", \"Trackbar\")\n",
    "        l_s = cv.getTrackbarPos(\"LS\", \"Trackbar\")\n",
    "        l_v = cv.getTrackbarPos(\"LV\", \"Trackbar\")\n",
    "        u_h = cv.getTrackbarPos(\"UH\", \"Trackbar\")\n",
    "        u_s = cv.getTrackbarPos(\"US\", \"Trackbar\")\n",
    "        u_v = cv.getTrackbarPos(\"UV\", \"Trackbar\")\n",
    "\n",
    "\n",
    "        l = np.array([l_h, l_s, l_v])\n",
    "        u = np.array([u_h, u_s, u_v])\n",
    "        mask_table_hsv = cv.inRange(frame_hsv, l, u)        \n",
    "\n",
    "        res = cv.bitwise_and(frame, frame, mask=mask_table_hsv)    \n",
    "\n",
    "        frame_res = cv.resize(frame,(0,0),fx=0.2,fy=0.2)\n",
    "        mask_table_hsv_res = cv.resize(mask_table_hsv,(0,0),fx=0.2,fy=0.2)\n",
    "        res_res = cv.resize(res,(0,0),fx=0.2,fy=0.2)\n",
    "        \n",
    "        cv.imshow(\"Frame\", frame_res)\n",
    "        cv.imshow(\"Mask\", mask_table_hsv_res)\n",
    "        cv.imshow(\"Res\", res_res)\n",
    "\n",
    "        if cv.waitKey(25) & 0xFF == ord('q'):\n",
    "                break\n",
    "    cv.destroyAllWindows()"
   ]
  },
  {
   "cell_type": "code",
   "execution_count": 4,
   "id": "ab73d97b",
   "metadata": {},
   "outputs": [],
   "source": [
    "img = cv.imread('./antrenare/1_01.jpg')\n",
    "#find_color_values_using_trackbar(img)"
   ]
  },
  {
   "cell_type": "code",
   "execution_count": 6,
   "id": "a91bbc1d",
   "metadata": {},
   "outputs": [
    {
     "data": {
      "text/plain": [
       "True"
      ]
     },
     "execution_count": 6,
     "metadata": {},
     "output_type": "execute_result"
    }
   ],
   "source": [
    "low = np.array([154, 54, 0])\n",
    "high= np.array([255, 255, 255])\n",
    "\n",
    "img_hsv = cv.cvtColor(img, cv.COLOR_BGR2HSV)\n",
    "mask_hsv = cv.inRange(img_hsv, low, high)\n",
    "res_hsv = cv.bitwise_and(img, img, mask=mask_hsv) \n",
    "\n",
    "# cv.imshow('img_initial', cv.resize(img, (0, 0), fx=0.2, fy=0.2))\n",
    "# cv.imshow('mask_yellow_hsv', cv.resize(mask_hsv, (0, 0), fx=0.2, fy=0.2))\n",
    "# cv.imshow('res_hsv', cv.resize(res_hsv, (0, 0), fx=0.2, fy=0.2))\n",
    "\n",
    "# cv.waitKey(0)\n",
    "# cv.destroyAllWindows()\n",
    "\n",
    "cv.imwrite('./images_output_for_doc/img.jpg', img)\n",
    "cv.imwrite('./images_output_for_doc/mask_hsv.jpg', mask_hsv)\n",
    "cv.imwrite('./images_output_for_doc/res_hsv.jpg', res_hsv)"
   ]
  },
  {
   "cell_type": "code",
   "execution_count": null,
   "id": "31cd69be",
   "metadata": {},
   "outputs": [],
   "source": []
  }
 ],
 "metadata": {
  "kernelspec": {
   "display_name": "Python 3.8.10 64-bit",
   "language": "python",
   "name": "python3"
  },
  "language_info": {
   "codemirror_mode": {
    "name": "ipython",
    "version": 3
   },
   "file_extension": ".py",
   "mimetype": "text/x-python",
   "name": "python",
   "nbconvert_exporter": "python",
   "pygments_lexer": "ipython3",
   "version": "3.8.10"
  },
  "vscode": {
   "interpreter": {
    "hash": "e7370f93d1d0cde622a1f8e1c04877d8463912d04d973331ad4851f04de6915a"
   }
  }
 },
 "nbformat": 4,
 "nbformat_minor": 5
}
